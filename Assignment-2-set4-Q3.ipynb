{
 "cells": [
  {
   "cell_type": "markdown",
   "id": "ab2f7cb6",
   "metadata": {},
   "source": [
    "# Assignment-2-set4-Q3\n",
    "Auditors at a small community bank randomly sample 100 withdrawal transactions made during the week at an ATM machine located near the bank’s main branch. Over the past 2 years, the average withdrawal amount has been 50 with standard deviation of  40. Since audit investigations are typically expensive, the auditors decide to not initiate further investigations if the mean transaction amount of the sample is between 45and 55. What is the probability that in any given week, there will be an investigation? A. 1.25% B. 2.5% C. 10.55% D. 21.1% E. 50%\n"
   ]
  },
  {
   "cell_type": "code",
   "execution_count": 1,
   "id": "42dbdd25",
   "metadata": {},
   "outputs": [],
   "source": [
    "import numpy as np\n",
    "from scipy import stats\n",
    "from scipy.stats import norm"
   ]
  },
  {
   "cell_type": "code",
   "execution_count": 3,
   "id": "29737ec7",
   "metadata": {},
   "outputs": [],
   "source": [
    "\n",
    "import warnings\n",
    "warnings.filterwarnings(\"ignore\")"
   ]
  },
  {
   "cell_type": "code",
   "execution_count": 4,
   "id": "9ec6e178",
   "metadata": {},
   "outputs": [],
   "source": [
    "#n=100, Pop Mean=50, Pop SD=40 As no. of samples is more than 30, we can consider it normal distribution\n",
    "# For No investigation P(45<X<55)\n",
    "# For Investigation 1-P(45<X<55)"
   ]
  },
  {
   "cell_type": "code",
   "execution_count": 6,
   "id": "6ab1b944",
   "metadata": {},
   "outputs": [
    {
     "data": {
      "text/plain": [
       "-1.25"
      ]
     },
     "execution_count": 6,
     "metadata": {},
     "output_type": "execute_result"
    }
   ],
   "source": [
    "# find z-scores at x=45; z=(s_mean-P_mean)/(p_SD/sqrt(n))\n",
    "z_scores=(45-50)/(40/np.sqrt(100))\n",
    "z_scores"
   ]
  },
  {
   "cell_type": "code",
   "execution_count": 7,
   "id": "b0898a49",
   "metadata": {},
   "outputs": [
    {
     "data": {
      "text/plain": [
       "1.25"
      ]
     },
     "execution_count": 7,
     "metadata": {},
     "output_type": "execute_result"
    }
   ],
   "source": [
    "#find z_scores at X=55\n",
    "z_scores=(55-50)/(40/np.sqrt(100))\n",
    "z_scores"
   ]
  },
  {
   "cell_type": "code",
   "execution_count": 8,
   "id": "a2fc5606",
   "metadata": {},
   "outputs": [
    {
     "data": {
      "text/plain": [
       "0.7887004526662893"
      ]
     },
     "execution_count": 8,
     "metadata": {},
     "output_type": "execute_result"
    }
   ],
   "source": [
    "# For No investigation P(45<X<55) using z_scores = P(X<50)-P(X<45)\n",
    "stats.norm.cdf(1.25)-stats.norm.cdf(-1.25)"
   ]
  },
  {
   "cell_type": "code",
   "execution_count": 9,
   "id": "733f277b",
   "metadata": {},
   "outputs": [
    {
     "data": {
      "text/plain": [
       "(45.00000495667348, 54.99999504332652)"
      ]
     },
     "execution_count": 9,
     "metadata": {},
     "output_type": "execute_result"
    }
   ],
   "source": [
    "stats.norm.interval(0.7887,loc=50,scale=40/(100**0.5))"
   ]
  },
  {
   "cell_type": "code",
   "execution_count": 10,
   "id": "2411e394",
   "metadata": {},
   "outputs": [
    {
     "data": {
      "text/plain": [
       "0.21130000000000004"
      ]
     },
     "execution_count": 10,
     "metadata": {},
     "output_type": "execute_result"
    }
   ],
   "source": [
    "# For Investigation 1-P(45<X<55)\n",
    "1-0.7887"
   ]
  },
  {
   "cell_type": "markdown",
   "id": "721b0675",
   "metadata": {},
   "source": [
    "# Answer is D. 21.1%"
   ]
  },
  {
   "cell_type": "code",
   "execution_count": null,
   "id": "0e52eeeb",
   "metadata": {},
   "outputs": [],
   "source": []
  }
 ],
 "metadata": {
  "kernelspec": {
   "display_name": "Python 3 (ipykernel)",
   "language": "python",
   "name": "python3"
  },
  "language_info": {
   "codemirror_mode": {
    "name": "ipython",
    "version": 3
   },
   "file_extension": ".py",
   "mimetype": "text/x-python",
   "name": "python",
   "nbconvert_exporter": "python",
   "pygments_lexer": "ipython3",
   "version": "3.9.7"
  }
 },
 "nbformat": 4,
 "nbformat_minor": 5
}
